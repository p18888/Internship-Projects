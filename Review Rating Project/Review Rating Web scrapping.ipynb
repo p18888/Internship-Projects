{
 "cells": [
  {
   "cell_type": "code",
   "execution_count": 1,
   "id": "ed354885",
   "metadata": {},
   "outputs": [],
   "source": [
    "import pandas as pd\n",
    "import numpy as np\n",
    "import matplotlib.pyplot as plt\n",
    "import seaborn as sns\n",
    "import datetime as dt\n",
    "from IPython.display import Image\n",
    "%matplotlib inline\n",
    "import warnings\n",
    "warnings.simplefilter('ignore')\n",
    "\n",
    "import selenium\n",
    "from selenium import webdriver\n",
    "import pandas as pd\n",
    "import csv\n",
    "import time\n",
    "import urllib\n",
    "from selenium.webdriver.support.ui import WebDriverWait\n",
    "from selenium.webdriver.support import expected_conditions as EC\n",
    "from selenium.webdriver.common.by import By\n",
    "from selenium.common.exceptions import NoSuchElementException,StaleElementReferenceException,ElementNotInteractableException,ElementNotVisibleException,TimeoutException,ElementClickInterceptedException"
   ]
  },
  {
   "cell_type": "code",
   "execution_count": null,
   "id": "00ea9af1",
   "metadata": {},
   "outputs": [],
   "source": []
  },
  {
   "cell_type": "code",
   "execution_count": 9,
   "id": "98cb8c6a",
   "metadata": {},
   "outputs": [],
   "source": [
    "def review_links(driver,review_link_lis):\n",
    "    for n in range(0,200):\n",
    "        review_link_lis.append(driver.current_url)\n",
    "#         time.sleep(0.6)\n",
    "        try:\n",
    "            WebDriverWait(driver, 5).until(EC.element_to_be_clickable((By.XPATH, \"//li[@class='a-last']\"))).click()\n",
    "        except NoSuchElementException as e:\n",
    "            break\n",
    "        except TimeoutException as e:\n",
    "            break\n",
    "        except StaleElementReferenceException as e:\n",
    "            break\n",
    "    return review_link_lis\n",
    "\n",
    "def links_one_star(driver,review_link_lis):\n",
    "#     time.sleep(0.3)\n",
    "    driver.find_element_by_xpath(\"//div[@class='a-column a-span3 star-rating-select']/span\").click()\n",
    "    time.sleep(0.3)\n",
    "    driver.find_element_by_xpath(\"//li[@aria-labelledby='star-count-dropdown_5']\").click()\n",
    "    lis=review_links(driver,review_link_lis)\n",
    "    driver,lis=links_two_star(driver,lis)\n",
    "    return driver,lis\n",
    "\n",
    "def links_two_star(driver,review_link_lis):\n",
    "#     time.sleep(0.3)\n",
    "    driver.find_element_by_xpath(\"//div[@class='a-column a-span3 star-rating-select']/span\").click()\n",
    "    time.sleep(0.3)\n",
    "    driver.find_element_by_xpath(\"//li[@aria-labelledby='star-count-dropdown_4']\").click()\n",
    "    lis=review_links(driver,review_link_lis)\n",
    "    driver,lis=links_three_star(driver,lis)\n",
    "    return driver,lis\n",
    "\n",
    "def links_three_star(driver,review_link_lis):\n",
    "#     time.sleep(0.3)\n",
    "    driver.find_element_by_xpath(\"//div[@class='a-column a-span3 star-rating-select']/span\").click()\n",
    "    time.sleep(0.3)\n",
    "    driver.find_element_by_xpath(\"//li[@aria-labelledby='star-count-dropdown_3']\").click()\n",
    "    lis=review_links(driver,review_link_lis)\n",
    "    driver,lis=links_four_star(driver,lis)\n",
    "    return driver,lis\n",
    "\n",
    "def links_four_star(driver,review_link_lis):\n",
    "#     time.sleep(0.3)\n",
    "    driver.find_element_by_xpath(\"//div[@class='a-column a-span3 star-rating-select']/span\").click()\n",
    "    time.sleep(0.3)\n",
    "    driver.find_element_by_xpath(\"//li[@aria-labelledby='star-count-dropdown_2']\").click()\n",
    "    lis=review_links(driver,review_link_lis)\n",
    "    driver,lis=links_five_star(driver,lis)\n",
    "    return driver,lis\n",
    "\n",
    "def links_five_star(driver,review_link_lis):\n",
    "    time.sleep(0.3)\n",
    "    driver.find_element_by_xpath(\"//div[@class='a-column a-span3 star-rating-select']/span\").click()\n",
    "    time.sleep(0.3)\n",
    "    driver.find_element_by_xpath(\"//li[@aria-labelledby='star-count-dropdown_1']\").click()\n",
    "    lis=review_links(driver,review_link_lis)\n",
    "    return driver,lis\n",
    "\n",
    "\n",
    "def scrap_data_from_amazon(path,web_link,prod_name):\n",
    "    driver = webdriver.Chrome(path)\n",
    "    driver.get(web_link)\n",
    "    search_box=driver.find_element_by_id('twotabsearchtextbox')\n",
    "    search_box.send_keys(prod_name)\n",
    "    driver.find_element_by_id('nav-search-submit-button').click()\n",
    "    lis_brand_links=[]\n",
    "    values={\n",
    "            'Rating_heading':[],\n",
    "            'Reviews':[],\n",
    "            'Rating':[]\n",
    "           }\n",
    "    for page in range(1,3):\n",
    "        for i in driver.find_elements_by_xpath(\"//a[@class='a-link-normal a-text-normal']\"):\n",
    "            lis_brand_links.append(i.get_attribute(\"href\"))\n",
    "        driver.find_element_by_xpath(\"//li[@class='a-last']\").click()\n",
    "        try:\n",
    "            WebDriverWait(driver,5).until(EC.presence_of_element_located((By.CLASS_NAME,'a-last')))\n",
    "        except NoSuchElementException as e:\n",
    "            print(e)   \n",
    "    for link in lis_brand_links:\n",
    "        driver.get(link)\n",
    "        try:\n",
    "            try:\n",
    "                driver.find_element_by_xpath(\"//a[@class='a-link-emphasis a-text-bold']\").click()\n",
    "            except NoSuchElementException as e:\n",
    "                continue\n",
    "            time.sleep(4)\n",
    "            review_link_lis=[]\n",
    "            driver,review_link_lis=links_one_star(driver,review_link_lis)\n",
    "            for link in review_link_lis:\n",
    "                driver.get(link)\n",
    "                for t in driver.find_elements_by_xpath(\"//div[@class='a-section celwidget']\"):\n",
    "                    try:\n",
    "                        t.find_element_by_xpath(\"div[5]/div/div/span/a\").click()\n",
    "                        time.sleep(0.2)\n",
    "                    except NoSuchElementException as e:\n",
    "                        pass\n",
    "                    try:\n",
    "                        time.sleep(0.2)\n",
    "                        values['Rating'].append(t.find_element_by_xpath(\"div[2]/a\").get_attribute('title'))\n",
    "                        values['Reviews'].append(t.text.split(\"\\n\")[4])\n",
    "                        values['Rating_heading'].append(t.text.split(\"\\n\")[1])\n",
    "                    except StaleElementReferenceException as e:\n",
    "                        continue\n",
    "                    except NoSuchElementException as e:\n",
    "                        continue\n",
    "                        \n",
    "        except TimeoutException as  e:\n",
    "            time.sleep(2)\n",
    "    return values\n",
    "\n"
   ]
  },
  {
   "cell_type": "code",
   "execution_count": 281,
   "id": "9603876c",
   "metadata": {
    "scrolled": true
   },
   "outputs": [],
   "source": [
    "# prod_name=input(\"Enter the Product that you want to search : \")\n",
    "data=scrap_data_from_amazon(\"/home/pavankumar/Downloads/chromedriver_linux64/chromedriver\",\"https://www.amazon.in/\",'laptops')\n",
    "laptops=pd.DataFrame(data)\n",
    "laptops.shape"
   ]
  },
  {
   "cell_type": "code",
   "execution_count": 252,
   "id": "ddebfa9e",
   "metadata": {},
   "outputs": [],
   "source": [
    "laptops.to_csv(\"amazon_laptops.csv\")"
   ]
  },
  {
   "cell_type": "code",
   "execution_count": 10,
   "id": "ff36dc45",
   "metadata": {},
   "outputs": [
    {
     "data": {
      "text/plain": [
       "(2348, 3)"
      ]
     },
     "execution_count": 10,
     "metadata": {},
     "output_type": "execute_result"
    }
   ],
   "source": [
    "data=scrap_data_from_amazon(\"/home/pavankumar/Downloads/chromedriver_linux64/chromedriver\",\"https://www.amazon.in/\",'phones')\n",
    "phones=pd.DataFrame(data)\n",
    "phones.shape"
   ]
  },
  {
   "cell_type": "code",
   "execution_count": null,
   "id": "ebda22d2",
   "metadata": {},
   "outputs": [],
   "source": []
  },
  {
   "cell_type": "code",
   "execution_count": 11,
   "id": "2880f210",
   "metadata": {},
   "outputs": [],
   "source": [
    "phones.to_csv(\"amazon_phones.csv\")"
   ]
  },
  {
   "cell_type": "code",
   "execution_count": 12,
   "id": "4ae6189e",
   "metadata": {},
   "outputs": [],
   "source": [
    "data=scrap_data_from_amazon(\"/home/pavankumar/Downloads/chromedriver_linux64/chromedriver\",\"https://www.amazon.in/\",'headphones')\n",
    "headphones=pd.DataFrame(data)\n",
    "headphones.shape"
   ]
  },
  {
   "cell_type": "code",
   "execution_count": 13,
   "id": "8a8e3234",
   "metadata": {},
   "outputs": [],
   "source": [
    "headphones.to_csv(\"amazon_headphones.csv\")"
   ]
  },
  {
   "cell_type": "code",
   "execution_count": 14,
   "id": "2f1ea18f",
   "metadata": {},
   "outputs": [],
   "source": [
    "data=scrap_data_from_amazon(\"/home/pavankumar/Downloads/chromedriver_linux64/chromedriver\",\"https://www.amazon.in/\",'Smart Watches')\n",
    "smart_watches=pd.DataFrame(data)\n",
    "smart_watches.shape"
   ]
  },
  {
   "cell_type": "code",
   "execution_count": 15,
   "id": "b30ec489",
   "metadata": {},
   "outputs": [],
   "source": [
    "smart_watches.to_csv(\"amazon_smart_watches.csv\")"
   ]
  },
  {
   "cell_type": "code",
   "execution_count": 18,
   "id": "bc01fa99",
   "metadata": {},
   "outputs": [
    {
     "data": {
      "text/plain": [
       "(1115, 3)"
      ]
     },
     "execution_count": 18,
     "metadata": {},
     "output_type": "execute_result"
    }
   ],
   "source": [
    "data=scrap_data_from_amazon(\"/home/pavankumar/Downloads/chromedriver_linux64/chromedriver\",\"https://www.amazon.in/\",'Professional Cameras')\n",
    "professional_cameras=pd.DataFrame(data)\n",
    "professional_cameras.shape"
   ]
  },
  {
   "cell_type": "code",
   "execution_count": 19,
   "id": "eab30189",
   "metadata": {},
   "outputs": [],
   "source": [
    "professional_cameras.to_csv(\"amazon_professional_cameras.csv\")"
   ]
  },
  {
   "cell_type": "code",
   "execution_count": null,
   "id": "497063ee",
   "metadata": {},
   "outputs": [],
   "source": [
    "data=scrap_data_from_amazon(\"/home/pavankumar/Downloads/chromedriver_linux64/chromedriver\",\"https://www.amazon.in/\",'Printers')\n",
    "printers=pd.DataFrame(data)\n",
    "printers.shape"
   ]
  },
  {
   "cell_type": "code",
   "execution_count": null,
   "id": "a54a0362",
   "metadata": {},
   "outputs": [],
   "source": [
    "printers.to_csv(\"amazon_printers.csv\")"
   ]
  },
  {
   "cell_type": "code",
   "execution_count": 16,
   "id": "eeb4621a",
   "metadata": {},
   "outputs": [
    {
     "data": {
      "text/plain": [
       "(2182, 3)"
      ]
     },
     "execution_count": 16,
     "metadata": {},
     "output_type": "execute_result"
    }
   ],
   "source": [
    "data=scrap_data_from_amazon(\"/home/pavankumar/Downloads/chromedriver_linux64/chromedriver\",\"https://www.amazon.in/\",'monitors')\n",
    "monitors=pd.DataFrame(data)\n",
    "monitors.shape"
   ]
  },
  {
   "cell_type": "code",
   "execution_count": 20,
   "id": "d3599633",
   "metadata": {},
   "outputs": [],
   "source": [
    "monitors.to_csv(\"amazon_monitors.csv\")"
   ]
  },
  {
   "cell_type": "code",
   "execution_count": null,
   "id": "96104f77",
   "metadata": {},
   "outputs": [],
   "source": [
    "data=scrap_data_from_amazon(\"/home/pavankumar/Downloads/chromedriver_linux64/chromedriver\",\"https://www.amazon.in/\",'Home Theater')\n",
    "home_theater=pd.DataFrame(data)\n",
    "home_theater.shape"
   ]
  },
  {
   "cell_type": "code",
   "execution_count": null,
   "id": "35ffa4b7",
   "metadata": {},
   "outputs": [],
   "source": [
    "home_theater.to_csv(\"amazon_home_theater.csv\")"
   ]
  },
  {
   "cell_type": "code",
   "execution_count": null,
   "id": "ddaa22aa",
   "metadata": {},
   "outputs": [],
   "source": [
    "data=scrap_data_from_amazon(\"/home/pavankumar/Downloads/chromedriver_linux64/chromedriver\",\"https://www.amazon.in/\",'Routers')\n",
    "router=pd.DataFrame(data)\n",
    "router.shape"
   ]
  },
  {
   "cell_type": "code",
   "execution_count": null,
   "id": "94a8194b",
   "metadata": {},
   "outputs": [],
   "source": [
    "router.to_csv(\"amazon_router.csv\")"
   ]
  },
  {
   "cell_type": "code",
   "execution_count": null,
   "id": "b46b1598",
   "metadata": {},
   "outputs": [],
   "source": [
    "amazone_data=pd.concat([laptops,phones,headphones,smart_watches,professional_cameras,printers,monitors.home_theater,router],axis=0)"
   ]
  },
  {
   "cell_type": "code",
   "execution_count": null,
   "id": "934e42fe",
   "metadata": {},
   "outputs": [],
   "source": [
    "amazone_data.to_csv(\"amazon_all_data.csv\")"
   ]
  },
  {
   "cell_type": "code",
   "execution_count": null,
   "id": "96aa104e",
   "metadata": {},
   "outputs": [],
   "source": []
  },
  {
   "cell_type": "markdown",
   "id": "af7d6d24",
   "metadata": {},
   "source": [
    "### From flipkart"
   ]
  },
  {
   "cell_type": "code",
   "execution_count": 7,
   "id": "53e396a7",
   "metadata": {},
   "outputs": [],
   "source": [
    "def append_reviews(driver,values,typ):\n",
    "    for n in range(0,25):\n",
    "        try:\n",
    "            for a in driver.find_elements_by_xpath(\"//span[@class='_1BWGvX']\"):  ## Read more\n",
    "                a.click()\n",
    "                time.sleep(0.5)\n",
    "        except:\n",
    "            pass\n",
    "        for i in  driver.find_elements_by_xpath(\"//div[@class='col _2wzgFH K0kLPL']\"):\n",
    "            try:\n",
    "                values[\"Rating\"].append(i.text.split('\\n')[:-4][0])\n",
    "                values[\"Rating_heading\"].append(i.text.split('\\n')[:-4][1])\n",
    "                values[\"Reviews\"].append(' '.join(i.text.split('\\n')[:-4][2:]))\n",
    "            except:\n",
    "                continue\n",
    "\n",
    "        try:\n",
    "            driver.find_element_by_xpath(\"//a[@class='_1LKTO3'][2]\").click()\n",
    "            time.sleep(2)\n",
    "        except NoSuchElementException as e:\n",
    "            try:\n",
    "                if driver.find_element_by_xpath(\"//a[@class='_1LKTO3']\").text=='NEXT':\n",
    "                    driver.find_element_by_xpath(\"//a[@class='_1LKTO3']\").click()\n",
    "                    time.sleep(2)\n",
    "                else:\n",
    "                    break\n",
    "            except:\n",
    "                continue\n",
    "        except ElementClickInterceptedException as e:\n",
    "            try:\n",
    "                if driver.find_element_by_xpath(\"//a[@class='_1LKTO3']\").text=='NEXT':\n",
    "                    driver.find_element_by_xpath(\"//a[@class='_1LKTO3']\").click()\n",
    "                    time.sleep(2)\n",
    "                else:\n",
    "                    break\n",
    "            except:\n",
    "                continue\n",
    "    return driver,values\n",
    "\n",
    "\n",
    "def extract_review(driver,values,lis_brand_links):\n",
    "    for link in lis_brand_links:\n",
    "        driver.get(link)\n",
    "        try:\n",
    "            try:\n",
    "                driver.find_element_by_xpath(\"//div[@class='_3UAT2v _16PBlm']\").click()  ## All reviews\n",
    "            except NoSuchElementException as e:\n",
    "                values['Reviews'].append(\"-\")\n",
    "                continue\n",
    "        except TimeoutException as  e:\n",
    "            time.sleep(0.2)\n",
    "        time.sleep(1)\n",
    "        typ='positive'\n",
    "        driver.find_element_by_xpath(\"//select[@class='_1EDlbo tVKh2S']/option[3]\").click()  ## Positive reviews\n",
    "        time.sleep(1)\n",
    "        driver,values=append_reviews(driver,values,typ)\n",
    "        typ=='negative'\n",
    "        driver.find_element_by_xpath(\"//select[@class='_1EDlbo tVKh2S']/option[4]\").click()  ## Negative reviews\n",
    "        time.sleep(1)\n",
    "        driver,values=append_reviews(driver,values,typ)    \n",
    "\n",
    "    return driver, values\n",
    "\n",
    "\n",
    "def scrap_data_from_flipkart(path,web_link,prod_name):\n",
    "    driver = webdriver.Chrome(path)\n",
    "    driver.get(web_link)\n",
    "    driver.find_element_by_xpath(\"//button[@class='_2KpZ6l _2doB4z']\").click()\n",
    "    driver.find_element_by_xpath(\"//input[@class='_3704LK']\").send_keys(prod_name)\n",
    "    driver.find_element_by_xpath(\"//button[@class='L0Z3Pu']\").click()\n",
    "    lis_brand_links=[]\n",
    "    values={\n",
    "            'Rating_heading':[],\n",
    "            'Reviews':[],\n",
    "            'Rating':[]\n",
    "           }\n",
    "    for page in range(1,3):  ## Links for number of pages\n",
    "        for i in driver.find_elements_by_xpath(\"//a[@class='s1Q9rs']\"):\n",
    "            lis_brand_links.append(i.get_attribute(\"href\"))\n",
    "        for j in driver.find_elements_by_xpath(\"//a[@class='_1fQZEK']\"):\n",
    "            lis_brand_links.append(j.get_attribute(\"href\"))\n",
    "        try:\n",
    "            if driver.find_element_by_xpath(\"//div[@class='_2MImiq']/nav/a[11]\").text==\"NEXT\":\n",
    "                driver.find_element_by_xpath(\"//div[@class='_2MImiq']/nav/a[11]\").click()\n",
    "                time.sleep(3)\n",
    "            else:\n",
    "                driver.find_element_by_xpath(\"//div[@class='_2MImiq']/nav/a[12]\").click()\n",
    "                time.sleep(3)\n",
    "        except:\n",
    "            time.sleep(3)\n",
    "    driver,values=extract_review(driver,values,lis_brand_links)\n",
    "    return values\n",
    "\n",
    "global"
   ]
  },
  {
   "cell_type": "code",
   "execution_count": 18,
   "id": "0f74e36f",
   "metadata": {},
   "outputs": [],
   "source": [
    "prod_name=input(\"Enter the Product that you want to search : \")\n",
    "data=scrap_data_from_flipkart(\"/home/pavankumar/Downloads/chromedriver_linux64/chromedriver\",\"https://www.flipkart.com/\",prod_name)\n",
    "pd.DataFrame(data)"
   ]
  },
  {
   "cell_type": "code",
   "execution_count": null,
   "id": "51ef50e9",
   "metadata": {},
   "outputs": [],
   "source": []
  }
 ],
 "metadata": {
  "kernelspec": {
   "display_name": "Python 3",
   "language": "python",
   "name": "python3"
  },
  "language_info": {
   "codemirror_mode": {
    "name": "ipython",
    "version": 3
   },
   "file_extension": ".py",
   "mimetype": "text/x-python",
   "name": "python",
   "nbconvert_exporter": "python",
   "pygments_lexer": "ipython3",
   "version": "3.8.8"
  }
 },
 "nbformat": 4,
 "nbformat_minor": 5
}
